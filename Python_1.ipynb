{
  "nbformat": 4,
  "nbformat_minor": 0,
  "metadata": {
    "colab": {
      "provenance": [],
      "authorship_tag": "ABX9TyOBZ/eu4+KaKXR1CSzHf6vG",
      "include_colab_link": true
    },
    "kernelspec": {
      "name": "python3",
      "display_name": "Python 3"
    },
    "language_info": {
      "name": "python"
    }
  },
  "cells": [
    {
      "cell_type": "markdown",
      "metadata": {
        "id": "view-in-github",
        "colab_type": "text"
      },
      "source": [
        "<a href=\"https://colab.research.google.com/github/sureshkini09/Data_structures/blob/main/Python_1.ipynb\" target=\"_parent\"><img src=\"https://colab.research.google.com/assets/colab-badge.svg\" alt=\"Open In Colab\"/></a>"
      ]
    },
    {
      "cell_type": "code",
      "execution_count": 1,
      "metadata": {
        "colab": {
          "base_uri": "https://localhost:8080/"
        },
        "id": "zJd-gn45daCY",
        "outputId": "0c09ed77-3d08-4e80-bc2c-3a22d6c380ce"
      },
      "outputs": [
        {
          "output_type": "stream",
          "name": "stdout",
          "text": [
            "Enter the first number: 5\n",
            "Enter the second number: 9630\n",
            "Sum: 9635.0\n"
          ]
        }
      ],
      "source": [
        "num1 = float(input(\"Enter the first number: \"))\n",
        "num2 = float(input(\"Enter the second number: \"))\n",
        "print(\"Sum:\", num1 + num2)\n"
      ]
    },
    {
      "cell_type": "code",
      "source": [
        "# check odd or even\n",
        "num = int((\"Enter the number:\"))\n",
        "\n",
        "\n"
      ],
      "metadata": {
        "id": "gRrpoBb6jQyH"
      },
      "execution_count": null,
      "outputs": []
    }
  ]
}